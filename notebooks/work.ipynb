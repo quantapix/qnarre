{
 "cells": [
  {
   "cell_type": "code",
   "execution_count": 68,
   "metadata": {},
   "outputs": [
    {
     "name": "stdout",
     "output_type": "stream",
     "text": [
      "y :  None\n",
      "attns :  None\n",
      "hiddens :  None\n",
      "globals :  None\n",
      "Base(y=None, attns=None, hiddens=None, globals=None)\n",
      "y :  None\n",
      "attns :  None\n",
      "hiddens :  None\n",
      "globals :  None\n",
      "Base(y=(1,), attns=(2,), hiddens=None, globals=None)\n",
      "y :  None\n",
      "attns :  None\n",
      "hiddens :  None\n",
      "globals :  None\n",
      "dict_items([('y', (1,)), ('attns', (2,)), ('hiddens', None), ('globals', None)])\n",
      "y :  None\n",
      "attns :  None\n",
      "hiddens :  None\n",
      "globals :  None\n",
      "dict_values([(1,), (2,), None, None])\n",
      "y :  None\n",
      "attns :  None\n",
      "hiddens :  None\n",
      "globals :  None\n",
      "['y', 'attns', 'hiddens', 'globals']\n",
      "y :  (1,)\n",
      "attns :  (2,)\n",
      "hiddens :  ()\n",
      "globals :  None\n",
      "Base(y=(1,), attns=(2,), hiddens=(), globals=None)\n"
     ]
    }
   ],
   "source": [
    "from dataclasses import fields, dataclass\n",
    "\n",
    "class Output(dict):\n",
    "    def __init__(self, *xs, **kw):\n",
    "        n = len(xs)\n",
    "        if n > 0:\n",
    "            x0 = xs[0]\n",
    "            if isinstance(x0, dict):\n",
    "                x0.update(kw)\n",
    "                kw = x0\n",
    "                n = 0\n",
    "            else:\n",
    "                try:\n",
    "                    for x in iter(x0):\n",
    "                        if (\n",
    "                            not isinstance(x, (list, tuple))\n",
    "                            or not len(x) == 2\n",
    "                            or not isinstance(x[0], str)\n",
    "                        ):\n",
    "                            break\n",
    "                        if x[1] is not None:\n",
    "                            kw.update(tuple(x))\n",
    "                        n = 0\n",
    "                except TypeError:\n",
    "                    pass\n",
    "        for i, f in enumerate(fields(self)):\n",
    "            v = xs[i] if i < n else None\n",
    "            print(f.name, \": \", v)\n",
    "            if v is None:\n",
    "                v = kw.get(f.name, f.default)\n",
    "            setattr(self, f.name, v)\n",
    "            self[f.name] = v\n",
    "\n",
    "\n",
    "@dataclass(init=False)\n",
    "class Base(Output):\n",
    "    y: tuple | None = None\n",
    "    attns: tuple | None = None\n",
    "    hiddens: tuple | None = None\n",
    "    globals: tuple | None = None\n",
    "    \n",
    "print(Base())\n",
    "\n",
    "a = {\"y\": (1,), \"attns\": (2,), \"xxx\": ()}\n",
    "print(Base(a))\n",
    "print(Base(a).items())\n",
    "print(Base(a).values())\n",
    "print([i for i in Base(a)])\n",
    "\n",
    "print(Base((1,), (2,), ()))"
   ]
  },
  {
   "cell_type": "code",
   "execution_count": null,
   "metadata": {},
   "outputs": [],
   "source": []
  }
 ],
 "metadata": {
  "kernelspec": {
   "display_name": ".env",
   "language": "python",
   "name": "python3"
  },
  "language_info": {
   "codemirror_mode": {
    "name": "ipython",
    "version": 3
   },
   "file_extension": ".py",
   "mimetype": "text/x-python",
   "name": "python",
   "nbconvert_exporter": "python",
   "pygments_lexer": "ipython3",
   "version": "3.11.3"
  }
 },
 "nbformat": 4,
 "nbformat_minor": 2
}
